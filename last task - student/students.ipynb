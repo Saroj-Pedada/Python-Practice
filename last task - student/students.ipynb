{
 "cells": [
  {
   "cell_type": "code",
   "execution_count": 1,
   "id": "98a5b2bf",
   "metadata": {},
   "outputs": [],
   "source": [
    "import pandas as pd"
   ]
  },
  {
   "cell_type": "code",
   "execution_count": 2,
   "id": "03fb95c7",
   "metadata": {},
   "outputs": [
    {
     "name": "stdout",
     "output_type": "stream",
     "text": [
      "   id        name  class  mark  gender\n",
      "0   1    John Deo   Four    75  female\n",
      "1   2    Max Ruin  Three    85    male\n",
      "2   3      Arnold  Three    55    male\n",
      "3   4  Krish Star   Four    60  female\n",
      "4   5   John Mike   Four    60  female\n"
     ]
    }
   ],
   "source": [
    "df = pd.read_csv(\"student.csv\")\n",
    "print(df.head())"
   ]
  },
  {
   "cell_type": "code",
   "execution_count": 3,
   "id": "770597d4",
   "metadata": {},
   "outputs": [
    {
     "name": "stdout",
     "output_type": "stream",
     "text": [
      "0      John Deo\n",
      "1      Max Ruin\n",
      "2        Arnold\n",
      "3    Krish Star\n",
      "4     John Mike\n",
      "Name: name, dtype: object\n"
     ]
    }
   ],
   "source": [
    "print(df[\"name\"].head())"
   ]
  },
  {
   "cell_type": "code",
   "execution_count": 4,
   "id": "bdbcb113",
   "metadata": {},
   "outputs": [
    {
     "name": "stdout",
     "output_type": "stream",
     "text": [
      "         name  class  mark  gender\n",
      "0    John Deo   Four    75  female\n",
      "1    Max Ruin  Three    85    male\n",
      "2      Arnold  Three    55    male\n",
      "3  Krish Star   Four    60  female\n",
      "4   John Mike   Four    60  female\n"
     ]
    }
   ],
   "source": [
    "df_new = df.drop([\"id\"],axis=1)\n",
    "print(df_new.head())"
   ]
  },
  {
   "cell_type": "code",
   "execution_count": 5,
   "id": "8c69b4fc",
   "metadata": {},
   "outputs": [],
   "source": [
    "from flask import Flask"
   ]
  },
  {
   "cell_type": "code",
   "execution_count": 6,
   "id": "49cd0ad4",
   "metadata": {},
   "outputs": [],
   "source": [
    "app = Flask(__name__)"
   ]
  },
  {
   "cell_type": "code",
   "execution_count": 7,
   "id": "dbb5ef6c",
   "metadata": {},
   "outputs": [
    {
     "name": "stdout",
     "output_type": "stream",
     "text": [
      "74.65714285714286\n"
     ]
    }
   ],
   "source": [
    "avg_marks = df[\"mark\"].mean()\n",
    "print(avg_marks)"
   ]
  },
  {
   "cell_type": "code",
   "execution_count": 8,
   "id": "a178a280",
   "metadata": {},
   "outputs": [
    {
     "name": "stdout",
     "output_type": "stream",
     "text": [
      "   id         name  class  mark gender\n",
      "1   2     Max Ruin  Three    85   male\n",
      "2   3       Arnold  Three    55   male\n",
      "5   6    Alex John   Four    55   male\n",
      "6   7  My John Rob  Fifth    78   male\n",
      "7   8       Asruid   Five    85   male\n"
     ]
    }
   ],
   "source": [
    "df_male = df[df[\"gender\"]==\"male\"]\n",
    "print(df_male.head())"
   ]
  },
  {
   "cell_type": "code",
   "execution_count": 9,
   "id": "a6467406",
   "metadata": {},
   "outputs": [
    {
     "name": "stdout",
     "output_type": "stream",
     "text": [
      "71.94444444444444\n"
     ]
    }
   ],
   "source": [
    "avg_male = df_male[\"mark\"].mean()\n",
    "print(avg_male)"
   ]
  },
  {
   "cell_type": "code",
   "execution_count": 10,
   "id": "18f5c05e",
   "metadata": {},
   "outputs": [
    {
     "name": "stdout",
     "output_type": "stream",
     "text": [
      "    id        name class  mark  gender\n",
      "0    1    John Deo  Four    75  female\n",
      "3    4  Krish Star  Four    60  female\n",
      "4    5   John Mike  Four    60  female\n",
      "9   10    Big John  Four    55  female\n",
      "10  11      Ronald   Six    89  female\n"
     ]
    }
   ],
   "source": [
    "df_female = df[df[\"gender\"]==\"female\"]\n",
    "print(df_female.head())"
   ]
  },
  {
   "cell_type": "code",
   "execution_count": 11,
   "id": "70d764e0",
   "metadata": {},
   "outputs": [
    {
     "name": "stdout",
     "output_type": "stream",
     "text": [
      "77.52941176470588\n"
     ]
    }
   ],
   "source": [
    "avg_female = df_female[\"mark\"].mean()\n",
    "print(avg_female)"
   ]
  },
  {
   "cell_type": "code",
   "execution_count": 12,
   "id": "39bfafdb",
   "metadata": {},
   "outputs": [],
   "source": [
    "@app.route(\"/avg\")\n",
    "def avg():\n",
    "    return \"The average marks of the class are: \"+str(avg_marks)\n",
    "\n",
    "@app.route(\"/avg-male\")\n",
    "def avgmale():\n",
    "    return \"The average marks of males in the class are: \"+str(avg_male)\n",
    "\n",
    "@app.route(\"/avg-female\")\n",
    "def avgfemale():\n",
    "    return \"The average marks of males in the class are: \"+str(avg_female)"
   ]
  },
  {
   "cell_type": "code",
   "execution_count": 13,
   "id": "3a71e5ab",
   "metadata": {},
   "outputs": [],
   "source": [
    "@app.route(\"/\")\n",
    "def index():\n",
    "    return str(df)"
   ]
  },
  {
   "cell_type": "code",
   "execution_count": 14,
   "id": "6844eb72",
   "metadata": {},
   "outputs": [],
   "source": [
    "from waitress import serve"
   ]
  },
  {
   "cell_type": "code",
   "execution_count": 15,
   "id": "4a0fc7c2",
   "metadata": {},
   "outputs": [],
   "source": [
    "serve(app,port=8080,host='0.0.0.0')"
   ]
  }
 ],
 "metadata": {
  "kernelspec": {
   "display_name": "Python 3 (ipykernel)",
   "language": "python",
   "name": "python3"
  },
  "language_info": {
   "codemirror_mode": {
    "name": "ipython",
    "version": 3
   },
   "file_extension": ".py",
   "mimetype": "text/x-python",
   "name": "python",
   "nbconvert_exporter": "python",
   "pygments_lexer": "ipython3",
   "version": "3.9.7"
  }
 },
 "nbformat": 4,
 "nbformat_minor": 5
}
